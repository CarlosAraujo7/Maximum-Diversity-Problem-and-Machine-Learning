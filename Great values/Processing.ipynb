{
 "cells": [
  {
   "cell_type": "code",
   "execution_count": 3,
   "metadata": {},
   "outputs": [],
   "source": [
    "import pandas as pd\n",
    "\n",
    "# Carregar o DataFrame a partir do arquivo CSV\n",
    "df = pd.read_csv('../New Instances Carlos/uniformes inteiras/great_values_uniforme.csv')\n",
    "\n",
    "# Remover as colunas indesejadas\n",
    "df = df.drop(columns=['GAP', 'Tempo Gasto (s)'])\n",
    "\n",
    "# Salvar o DataFrame atualizado de volta no mesmo arquivo CSV\n",
    "df.to_csv('../New Instances Carlos/uniformes inteiras/great_values_uniforme.csv', index=False)\n",
    "\n",
    "# Função para ordenar os vértices\n",
    "def ordenar_vertices(vertice_str):\n",
    "    # Remove os colchetes e converte a string em uma lista de inteiros\n",
    "    vertices = eval(vertice_str)\n",
    "    # Ordena a lista de vértices\n",
    "    vertices_ordenados = sorted(vertices)\n",
    "    # Retorna a lista ordenada em formato de string\n",
    "    return str(vertices_ordenados)\n",
    "\n",
    "# Aplicar a função para ordenar os vértices da coluna \"Vértices Selecionados\"\n",
    "df['Vértices Selecionados'] = df['Vértices Selecionados'].apply(ordenar_vertices)\n",
    "\n",
    "# Salvar o DataFrame atualizado de volta no CSV (se necessário)\n",
    "df.to_csv('../New Instances Carlos/uniformes inteiras/great_values_uniforme.csv', index=False)\n",
    "\n",
    "# Remover a extensão '.txt' do final da coluna 'Instância'\n",
    "df['Instância'] = df['Instância'].str.replace('.txt', '', regex=False)\n",
    "\n",
    "# Salvar o DataFrame atualizado de volta no CSV\n",
    "df.to_csv('../New Instances Carlos/uniformes inteiras/great_values_uniforme.csv', index=False)\n"
   ]
  }
 ],
 "metadata": {
  "kernelspec": {
   "display_name": "Python 3",
   "language": "python",
   "name": "python3"
  },
  "language_info": {
   "codemirror_mode": {
    "name": "ipython",
    "version": 3
   },
   "file_extension": ".py",
   "mimetype": "text/x-python",
   "name": "python",
   "nbconvert_exporter": "python",
   "pygments_lexer": "ipython3",
   "version": "3.12.8"
  }
 },
 "nbformat": 4,
 "nbformat_minor": 2
}
